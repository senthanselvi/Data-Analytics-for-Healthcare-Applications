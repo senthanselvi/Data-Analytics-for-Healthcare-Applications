{
 "cells": [
  {
   "cell_type": "code",
   "execution_count": 1,
   "id": "3fefa4d9-a3dd-4b7c-81b1-a73b8c5a5664",
   "metadata": {},
   "outputs": [],
   "source": [
    "from sklearn.feature_extraction.text import CountVectorizer\n",
    "from sklearn.naive_bayes import MultinomialNB\n",
    "import re"
   ]
  },
  {
   "cell_type": "code",
   "execution_count": 2,
   "id": "f8fd7fe3-d6cc-4e4e-b349-2e316c06a511",
   "metadata": {},
   "outputs": [],
   "source": [
    "clinical_data=[\n",
    "    \"Patient ID:001,Age:45,Diagnosis:Diabetes\",\n",
    "    \"Patient ID:002,Age:60,Diagnosis:Hypertension\",\n",
    "    \"Patient ID:003,Age:29,Diagnosis:Diabetes\",\n",
    "    \"Patient ID:004,Age:40,Diagnosis:BloodPressure\",\n",
    "    \"Patient ID:005,Age:52,Diagnosis:Depression\"\n",
    "]"
   ]
  },
  {
   "cell_type": "code",
   "execution_count": 3,
   "id": "89fe3063-41a5-42a5-8a8f-d9796ec6af82",
   "metadata": {},
   "outputs": [],
   "source": [
    "def rule_based_extraction(data):\n",
    "    return [re.findall(r'Patient ID:(\\d+),Age:(\\d+),Diagnosis:(\\w+)',record) for record in data]"
   ]
  },
  {
   "cell_type": "code",
   "execution_count": 4,
   "id": "356892d2-cb35-4c11-91ba-14ba37141da7",
   "metadata": {},
   "outputs": [],
   "source": [
    "def pattern_based_extraction(data):\n",
    "    patterns=[\"Patient ID\",\"Age\",\"Diagnosis\"]\n",
    "    extracted_data=[]\n",
    "    for record in data:\n",
    "        record_data=[]\n",
    "        for pattern in patterns:\n",
    "            match=re.search(f'(pattern):(\\w+)',record)\n",
    "            record_data.append(match.group(1) if match else None)\n",
    "        extracted_data.append(tuple(record_data))\n",
    "    return extracted_data"
   ]
  },
  {
   "cell_type": "code",
   "execution_count": 5,
   "id": "2c7701d5-fea8-4580-ab80-a3af6b996c81",
   "metadata": {},
   "outputs": [],
   "source": [
    "def machine_learning_extraction(data):\n",
    "    vectorizer=CountVectorizer()\n",
    "    X= vectorizer.fit_transform(data)\n",
    "    y=[record.split(\",\")[2].split(\":\")[1] for record in data]\n",
    "    clf=MultinomialNB().fit(X,y)\n",
    "    predictions=clf.predict(X)\n",
    "    return list(zip([record.split(\",\")[0].split(\":\")[1] for record in data],y,predictions))\n",
    "\n",
    "rule_based_result=rule_based_extraction(clinical_data)\n",
    "pattern_based_result=pattern_based_extraction(clinical_data)\n",
    "machine_learning_result=machine_learning_extraction(clinical_data)"
   ]
  },
  {
   "cell_type": "code",
   "execution_count": 6,
   "id": "b122f626-af8c-4466-8e14-11ee1beff64f",
   "metadata": {},
   "outputs": [
    {
     "name": "stdout",
     "output_type": "stream",
     "text": [
      "Rule-based Extraction [[('001', '45', 'Diabetes')], [('002', '60', 'Hypertension')], [('003', '29', 'Diabetes')], [('004', '40', 'BloodPressure')], [('005', '52', 'Depression')]]\n",
      "Pattern-based Extraction [(None, None, None), (None, None, None), (None, None, None), (None, None, None), (None, None, None)]\n",
      "Machine Learning Extraction [('001', 'Diabetes', 'Diabetes'), ('002', 'Hypertension', 'Hypertension'), ('003', 'Diabetes', 'Diabetes'), ('004', 'BloodPressure', 'BloodPressure'), ('005', 'Depression', 'Depression')]\n"
     ]
    }
   ],
   "source": [
    "print(\"Rule-based Extraction\",rule_based_result)\n",
    "print(\"Pattern-based Extraction\",pattern_based_result)\n",
    "print(\"Machine Learning Extraction\",machine_learning_result)"
   ]
  },
  {
   "cell_type": "code",
   "execution_count": null,
   "id": "1719b96c-e4df-41b2-b965-3d1f36a6c4a0",
   "metadata": {},
   "outputs": [],
   "source": []
  }
 ],
 "metadata": {
  "kernelspec": {
   "display_name": "Python 3 (ipykernel)",
   "language": "python",
   "name": "python3"
  },
  "language_info": {
   "codemirror_mode": {
    "name": "ipython",
    "version": 3
   },
   "file_extension": ".py",
   "mimetype": "text/x-python",
   "name": "python",
   "nbconvert_exporter": "python",
   "pygments_lexer": "ipython3",
   "version": "3.11.4"
  }
 },
 "nbformat": 4,
 "nbformat_minor": 5
}
